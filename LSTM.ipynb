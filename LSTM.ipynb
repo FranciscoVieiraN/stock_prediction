{
 "cells": [
  {
   "cell_type": "code",
   "execution_count": 44,
   "id": "initial_id",
   "metadata": {
    "collapsed": true,
    "ExecuteTime": {
     "end_time": "2024-01-11T01:52:29.511253Z",
     "start_time": "2024-01-11T01:52:29.400232700Z"
    }
   },
   "outputs": [],
   "source": [
    "import numpy as np\n",
    "import matplotlib.pyplot as plt\n",
    "import pandas as pd\n",
    "import tensorflow as tf\n",
    "from tensorflow.keras.models import Sequential\n",
    "from tensorflow.keras.layers import Dense\n",
    "from tensorflow.keras.layers import LSTM\n",
    "from sklearn.preprocessing import MinMaxScaler\n",
    "from sklearn.metrics import mean_squared_error"
   ]
  },
  {
   "cell_type": "code",
   "execution_count": 45,
   "outputs": [],
   "source": [
    "# fix random seed for reproducibility\n",
    "tf.random.set_seed(7)"
   ],
   "metadata": {
    "collapsed": false,
    "ExecuteTime": {
     "end_time": "2024-01-11T01:52:30.238586500Z",
     "start_time": "2024-01-11T01:52:30.202586900Z"
    }
   },
   "id": "3529c1f1d0e86602"
  },
  {
   "cell_type": "code",
   "execution_count": 46,
   "outputs": [
    {
     "name": "stdout",
     "output_type": "stream",
     "text": [
      "[*********************100%***********************]  1 of 1 completed\n"
     ]
    }
   ],
   "source": [
    "from functions.stock import download_stock_data\n",
    "from const.interval import Interval\n",
    "\n",
    "stock_data = download_stock_data(\"BBAS3.SA\", Interval.DAY.value, 365)"
   ],
   "metadata": {
    "collapsed": false,
    "ExecuteTime": {
     "end_time": "2024-01-11T01:52:31.365034Z",
     "start_time": "2024-01-11T01:52:30.832083Z"
    }
   },
   "id": "11bed48c4348152a"
  },
  {
   "cell_type": "code",
   "execution_count": 85,
   "outputs": [
    {
     "data": {
      "text/plain": "         Close\n0    33.039856\n1    32.827591\n2    32.901428\n3    32.864513\n4    34.793373\n..         ...\n243  54.230000\n244  54.880001\n245  55.349998\n246  54.520000\n247  54.430000\n\n[248 rows x 1 columns]",
      "text/html": "<div>\n<style scoped>\n    .dataframe tbody tr th:only-of-type {\n        vertical-align: middle;\n    }\n\n    .dataframe tbody tr th {\n        vertical-align: top;\n    }\n\n    .dataframe thead th {\n        text-align: right;\n    }\n</style>\n<table border=\"1\" class=\"dataframe\">\n  <thead>\n    <tr style=\"text-align: right;\">\n      <th></th>\n      <th>Close</th>\n    </tr>\n  </thead>\n  <tbody>\n    <tr>\n      <th>0</th>\n      <td>33.039856</td>\n    </tr>\n    <tr>\n      <th>1</th>\n      <td>32.827591</td>\n    </tr>\n    <tr>\n      <th>2</th>\n      <td>32.901428</td>\n    </tr>\n    <tr>\n      <th>3</th>\n      <td>32.864513</td>\n    </tr>\n    <tr>\n      <th>4</th>\n      <td>34.793373</td>\n    </tr>\n    <tr>\n      <th>...</th>\n      <td>...</td>\n    </tr>\n    <tr>\n      <th>243</th>\n      <td>54.230000</td>\n    </tr>\n    <tr>\n      <th>244</th>\n      <td>54.880001</td>\n    </tr>\n    <tr>\n      <th>245</th>\n      <td>55.349998</td>\n    </tr>\n    <tr>\n      <th>246</th>\n      <td>54.520000</td>\n    </tr>\n    <tr>\n      <th>247</th>\n      <td>54.430000</td>\n    </tr>\n  </tbody>\n</table>\n<p>248 rows × 1 columns</p>\n</div>"
     },
     "metadata": {},
     "output_type": "display_data"
    }
   ],
   "source": [
    "dataset = pd.DataFrame({'Close': stock_data['Adj Close'].values}, index=range(len(stock_data)))\n",
    "display(dataset)"
   ],
   "metadata": {
    "collapsed": false,
    "ExecuteTime": {
     "end_time": "2024-01-11T02:18:22.886830300Z",
     "start_time": "2024-01-11T02:18:22.861825400Z"
    }
   },
   "id": "be01b094eb33eea3"
  },
  {
   "cell_type": "code",
   "execution_count": 86,
   "outputs": [],
   "source": [
    "scaler = MinMaxScaler(feature_range=(0, 1))\n",
    "dataset = scaler.fit_transform(dataset)"
   ],
   "metadata": {
    "collapsed": false,
    "ExecuteTime": {
     "end_time": "2024-01-11T02:18:25.183828100Z",
     "start_time": "2024-01-11T02:18:25.155826100Z"
    }
   },
   "id": "c5b36517d83e27d6"
  },
  {
   "cell_type": "code",
   "execution_count": 87,
   "outputs": [
    {
     "name": "stdout",
     "output_type": "stream",
     "text": [
      "166 82\n"
     ]
    }
   ],
   "source": [
    "# divide train and test\n",
    "train_size = int(len(dataset) * 0.67)\n",
    "test_size = len(dataset) - train_size\n",
    "train, test = dataset[0:train_size,:], dataset[train_size:len(dataset),:]\n",
    "print(len(train), len(test))"
   ],
   "metadata": {
    "collapsed": false,
    "ExecuteTime": {
     "end_time": "2024-01-11T02:18:25.848865100Z",
     "start_time": "2024-01-11T02:18:25.826828600Z"
    }
   },
   "id": "257bb12d9c599423"
  },
  {
   "cell_type": "code",
   "execution_count": 88,
   "outputs": [],
   "source": [
    "def create_dataset(dataset, look_back=1):\n",
    "\tdataX, dataY = [], []\n",
    "\tfor i in range(len(dataset)-look_back-1):\n",
    "\t\ta = dataset[i:(i+look_back), 0]\n",
    "\t\tdataX.append(a)\n",
    "\t\tdataY.append(dataset[i + look_back, 0])\n",
    "\treturn np.array(dataX), np.array(dataY)"
   ],
   "metadata": {
    "collapsed": false,
    "ExecuteTime": {
     "end_time": "2024-01-11T02:18:27.682825800Z",
     "start_time": "2024-01-11T02:18:27.668825500Z"
    }
   },
   "id": "7579328e854a768c"
  },
  {
   "cell_type": "code",
   "execution_count": 89,
   "outputs": [],
   "source": [
    "look_back = 1\n",
    "trainX, trainY = create_dataset(train, look_back)\n",
    "testX, testY = create_dataset(test, look_back)"
   ],
   "metadata": {
    "collapsed": false,
    "ExecuteTime": {
     "end_time": "2024-01-11T02:18:28.340829800Z",
     "start_time": "2024-01-11T02:18:28.318826300Z"
    }
   },
   "id": "62993722f680e75a"
  },
  {
   "cell_type": "code",
   "execution_count": 90,
   "outputs": [],
   "source": [
    "trainX = np.reshape(trainX, (trainX.shape[0], 1, trainX.shape[1]))\n",
    "testX = np.reshape(testX, (testX.shape[0], 1, testX.shape[1]))"
   ],
   "metadata": {
    "collapsed": false,
    "ExecuteTime": {
     "end_time": "2024-01-11T02:18:30.473825200Z",
     "start_time": "2024-01-11T02:18:30.446827Z"
    }
   },
   "id": "6408a82629de8006"
  },
  {
   "cell_type": "code",
   "execution_count": 91,
   "outputs": [
    {
     "name": "stdout",
     "output_type": "stream",
     "text": [
      "Epoch 1/100\n",
      "164/164 - 2s - loss: 0.1025 - 2s/epoch - 14ms/step\n",
      "Epoch 2/100\n",
      "164/164 - 0s - loss: 0.0267 - 310ms/epoch - 2ms/step\n",
      "Epoch 3/100\n",
      "164/164 - 0s - loss: 0.0186 - 325ms/epoch - 2ms/step\n",
      "Epoch 4/100\n",
      "164/164 - 0s - loss: 0.0141 - 331ms/epoch - 2ms/step\n",
      "Epoch 5/100\n",
      "164/164 - 0s - loss: 0.0100 - 307ms/epoch - 2ms/step\n",
      "Epoch 6/100\n",
      "164/164 - 0s - loss: 0.0065 - 309ms/epoch - 2ms/step\n",
      "Epoch 7/100\n",
      "164/164 - 0s - loss: 0.0038 - 304ms/epoch - 2ms/step\n",
      "Epoch 8/100\n",
      "164/164 - 0s - loss: 0.0022 - 310ms/epoch - 2ms/step\n",
      "Epoch 9/100\n",
      "164/164 - 0s - loss: 0.0014 - 301ms/epoch - 2ms/step\n",
      "Epoch 10/100\n",
      "164/164 - 0s - loss: 0.0010 - 331ms/epoch - 2ms/step\n",
      "Epoch 11/100\n",
      "164/164 - 1s - loss: 9.0978e-04 - 796ms/epoch - 5ms/step\n",
      "Epoch 12/100\n",
      "164/164 - 1s - loss: 8.4433e-04 - 605ms/epoch - 4ms/step\n",
      "Epoch 13/100\n",
      "164/164 - 0s - loss: 8.8469e-04 - 420ms/epoch - 3ms/step\n",
      "Epoch 14/100\n",
      "164/164 - 0s - loss: 8.5870e-04 - 298ms/epoch - 2ms/step\n",
      "Epoch 15/100\n",
      "164/164 - 0s - loss: 8.5466e-04 - 297ms/epoch - 2ms/step\n",
      "Epoch 16/100\n",
      "164/164 - 0s - loss: 8.7405e-04 - 295ms/epoch - 2ms/step\n",
      "Epoch 17/100\n",
      "164/164 - 0s - loss: 8.6651e-04 - 297ms/epoch - 2ms/step\n",
      "Epoch 18/100\n",
      "164/164 - 0s - loss: 8.5789e-04 - 300ms/epoch - 2ms/step\n",
      "Epoch 19/100\n",
      "164/164 - 0s - loss: 8.7933e-04 - 301ms/epoch - 2ms/step\n",
      "Epoch 20/100\n",
      "164/164 - 0s - loss: 8.7795e-04 - 297ms/epoch - 2ms/step\n",
      "Epoch 21/100\n",
      "164/164 - 0s - loss: 8.4133e-04 - 294ms/epoch - 2ms/step\n",
      "Epoch 22/100\n",
      "164/164 - 0s - loss: 8.6319e-04 - 298ms/epoch - 2ms/step\n",
      "Epoch 23/100\n",
      "164/164 - 0s - loss: 8.7050e-04 - 295ms/epoch - 2ms/step\n",
      "Epoch 24/100\n",
      "164/164 - 0s - loss: 8.8124e-04 - 296ms/epoch - 2ms/step\n",
      "Epoch 25/100\n",
      "164/164 - 0s - loss: 8.6470e-04 - 300ms/epoch - 2ms/step\n",
      "Epoch 26/100\n",
      "164/164 - 0s - loss: 8.7612e-04 - 297ms/epoch - 2ms/step\n",
      "Epoch 27/100\n",
      "164/164 - 0s - loss: 8.5850e-04 - 294ms/epoch - 2ms/step\n",
      "Epoch 28/100\n",
      "164/164 - 0s - loss: 9.2662e-04 - 300ms/epoch - 2ms/step\n",
      "Epoch 29/100\n",
      "164/164 - 0s - loss: 8.5159e-04 - 294ms/epoch - 2ms/step\n",
      "Epoch 30/100\n",
      "164/164 - 0s - loss: 8.9110e-04 - 291ms/epoch - 2ms/step\n",
      "Epoch 31/100\n",
      "164/164 - 0s - loss: 8.8536e-04 - 307ms/epoch - 2ms/step\n",
      "Epoch 32/100\n",
      "164/164 - 0s - loss: 8.7788e-04 - 297ms/epoch - 2ms/step\n",
      "Epoch 33/100\n",
      "164/164 - 0s - loss: 8.6866e-04 - 297ms/epoch - 2ms/step\n",
      "Epoch 34/100\n",
      "164/164 - 0s - loss: 8.8900e-04 - 295ms/epoch - 2ms/step\n",
      "Epoch 35/100\n",
      "164/164 - 0s - loss: 8.6354e-04 - 299ms/epoch - 2ms/step\n",
      "Epoch 36/100\n",
      "164/164 - 0s - loss: 8.9407e-04 - 298ms/epoch - 2ms/step\n",
      "Epoch 37/100\n",
      "164/164 - 0s - loss: 9.0594e-04 - 293ms/epoch - 2ms/step\n",
      "Epoch 38/100\n",
      "164/164 - 0s - loss: 8.6889e-04 - 296ms/epoch - 2ms/step\n",
      "Epoch 39/100\n",
      "164/164 - 0s - loss: 8.9880e-04 - 297ms/epoch - 2ms/step\n",
      "Epoch 40/100\n",
      "164/164 - 0s - loss: 8.7202e-04 - 302ms/epoch - 2ms/step\n",
      "Epoch 41/100\n",
      "164/164 - 0s - loss: 8.3460e-04 - 295ms/epoch - 2ms/step\n",
      "Epoch 42/100\n",
      "164/164 - 0s - loss: 8.5942e-04 - 302ms/epoch - 2ms/step\n",
      "Epoch 43/100\n",
      "164/164 - 0s - loss: 8.7038e-04 - 297ms/epoch - 2ms/step\n",
      "Epoch 44/100\n",
      "164/164 - 0s - loss: 8.5588e-04 - 291ms/epoch - 2ms/step\n",
      "Epoch 45/100\n",
      "164/164 - 0s - loss: 8.8380e-04 - 295ms/epoch - 2ms/step\n",
      "Epoch 46/100\n",
      "164/164 - 0s - loss: 8.6475e-04 - 296ms/epoch - 2ms/step\n",
      "Epoch 47/100\n",
      "164/164 - 0s - loss: 8.2441e-04 - 302ms/epoch - 2ms/step\n",
      "Epoch 48/100\n",
      "164/164 - 0s - loss: 9.1599e-04 - 294ms/epoch - 2ms/step\n",
      "Epoch 49/100\n",
      "164/164 - 0s - loss: 8.6188e-04 - 300ms/epoch - 2ms/step\n",
      "Epoch 50/100\n",
      "164/164 - 0s - loss: 8.8081e-04 - 300ms/epoch - 2ms/step\n",
      "Epoch 51/100\n",
      "164/164 - 0s - loss: 8.7762e-04 - 294ms/epoch - 2ms/step\n",
      "Epoch 52/100\n",
      "164/164 - 0s - loss: 8.8318e-04 - 300ms/epoch - 2ms/step\n",
      "Epoch 53/100\n",
      "164/164 - 0s - loss: 8.5307e-04 - 295ms/epoch - 2ms/step\n",
      "Epoch 54/100\n",
      "164/164 - 0s - loss: 8.6062e-04 - 296ms/epoch - 2ms/step\n",
      "Epoch 55/100\n",
      "164/164 - 0s - loss: 8.6001e-04 - 297ms/epoch - 2ms/step\n",
      "Epoch 56/100\n",
      "164/164 - 0s - loss: 8.3298e-04 - 296ms/epoch - 2ms/step\n",
      "Epoch 57/100\n",
      "164/164 - 0s - loss: 8.8597e-04 - 298ms/epoch - 2ms/step\n",
      "Epoch 58/100\n",
      "164/164 - 0s - loss: 8.7853e-04 - 292ms/epoch - 2ms/step\n",
      "Epoch 59/100\n",
      "164/164 - 0s - loss: 8.7051e-04 - 306ms/epoch - 2ms/step\n",
      "Epoch 60/100\n",
      "164/164 - 0s - loss: 8.5631e-04 - 295ms/epoch - 2ms/step\n",
      "Epoch 61/100\n",
      "164/164 - 0s - loss: 8.6037e-04 - 293ms/epoch - 2ms/step\n",
      "Epoch 62/100\n",
      "164/164 - 0s - loss: 8.5797e-04 - 320ms/epoch - 2ms/step\n",
      "Epoch 63/100\n",
      "164/164 - 0s - loss: 8.4829e-04 - 302ms/epoch - 2ms/step\n",
      "Epoch 64/100\n",
      "164/164 - 0s - loss: 8.5445e-04 - 300ms/epoch - 2ms/step\n",
      "Epoch 65/100\n",
      "164/164 - 0s - loss: 8.3522e-04 - 297ms/epoch - 2ms/step\n",
      "Epoch 66/100\n",
      "164/164 - 0s - loss: 8.3282e-04 - 296ms/epoch - 2ms/step\n",
      "Epoch 67/100\n",
      "164/164 - 0s - loss: 9.1766e-04 - 305ms/epoch - 2ms/step\n",
      "Epoch 68/100\n",
      "164/164 - 0s - loss: 8.5806e-04 - 292ms/epoch - 2ms/step\n",
      "Epoch 69/100\n",
      "164/164 - 0s - loss: 8.4027e-04 - 310ms/epoch - 2ms/step\n",
      "Epoch 70/100\n",
      "164/164 - 0s - loss: 8.9057e-04 - 297ms/epoch - 2ms/step\n",
      "Epoch 71/100\n",
      "164/164 - 0s - loss: 8.1316e-04 - 332ms/epoch - 2ms/step\n",
      "Epoch 72/100\n",
      "164/164 - 0s - loss: 8.4566e-04 - 309ms/epoch - 2ms/step\n",
      "Epoch 73/100\n",
      "164/164 - 0s - loss: 8.3626e-04 - 331ms/epoch - 2ms/step\n",
      "Epoch 74/100\n",
      "164/164 - 0s - loss: 8.7990e-04 - 317ms/epoch - 2ms/step\n",
      "Epoch 75/100\n",
      "164/164 - 0s - loss: 8.3691e-04 - 321ms/epoch - 2ms/step\n",
      "Epoch 76/100\n",
      "164/164 - 0s - loss: 8.7241e-04 - 314ms/epoch - 2ms/step\n",
      "Epoch 77/100\n",
      "164/164 - 0s - loss: 8.6351e-04 - 315ms/epoch - 2ms/step\n",
      "Epoch 78/100\n",
      "164/164 - 0s - loss: 8.5401e-04 - 315ms/epoch - 2ms/step\n",
      "Epoch 79/100\n",
      "164/164 - 0s - loss: 8.4971e-04 - 307ms/epoch - 2ms/step\n",
      "Epoch 80/100\n",
      "164/164 - 0s - loss: 8.4902e-04 - 316ms/epoch - 2ms/step\n",
      "Epoch 81/100\n",
      "164/164 - 0s - loss: 8.3921e-04 - 310ms/epoch - 2ms/step\n",
      "Epoch 82/100\n",
      "164/164 - 0s - loss: 8.3752e-04 - 313ms/epoch - 2ms/step\n",
      "Epoch 83/100\n",
      "164/164 - 0s - loss: 8.7631e-04 - 313ms/epoch - 2ms/step\n",
      "Epoch 84/100\n",
      "164/164 - 0s - loss: 8.9465e-04 - 309ms/epoch - 2ms/step\n",
      "Epoch 85/100\n",
      "164/164 - 0s - loss: 8.2824e-04 - 311ms/epoch - 2ms/step\n",
      "Epoch 86/100\n",
      "164/164 - 0s - loss: 8.5266e-04 - 310ms/epoch - 2ms/step\n",
      "Epoch 87/100\n",
      "164/164 - 0s - loss: 8.2887e-04 - 324ms/epoch - 2ms/step\n",
      "Epoch 88/100\n",
      "164/164 - 0s - loss: 8.7945e-04 - 317ms/epoch - 2ms/step\n",
      "Epoch 89/100\n",
      "164/164 - 0s - loss: 8.3820e-04 - 315ms/epoch - 2ms/step\n",
      "Epoch 90/100\n",
      "164/164 - 0s - loss: 8.5286e-04 - 313ms/epoch - 2ms/step\n",
      "Epoch 91/100\n",
      "164/164 - 0s - loss: 9.0634e-04 - 319ms/epoch - 2ms/step\n",
      "Epoch 92/100\n",
      "164/164 - 0s - loss: 8.5589e-04 - 311ms/epoch - 2ms/step\n",
      "Epoch 93/100\n",
      "164/164 - 0s - loss: 8.7339e-04 - 314ms/epoch - 2ms/step\n",
      "Epoch 94/100\n",
      "164/164 - 0s - loss: 8.6191e-04 - 305ms/epoch - 2ms/step\n",
      "Epoch 95/100\n",
      "164/164 - 0s - loss: 8.3912e-04 - 311ms/epoch - 2ms/step\n",
      "Epoch 96/100\n",
      "164/164 - 0s - loss: 8.3834e-04 - 343ms/epoch - 2ms/step\n",
      "Epoch 97/100\n",
      "164/164 - 0s - loss: 8.3912e-04 - 339ms/epoch - 2ms/step\n",
      "Epoch 98/100\n",
      "164/164 - 0s - loss: 8.4661e-04 - 342ms/epoch - 2ms/step\n",
      "Epoch 99/100\n",
      "164/164 - 0s - loss: 8.5016e-04 - 335ms/epoch - 2ms/step\n",
      "Epoch 100/100\n",
      "164/164 - 0s - loss: 8.4307e-04 - 384ms/epoch - 2ms/step\n"
     ]
    },
    {
     "data": {
      "text/plain": "<keras.src.callbacks.History at 0x2503ec8d670>"
     },
     "execution_count": 91,
     "metadata": {},
     "output_type": "execute_result"
    }
   ],
   "source": [
    "# create and fit the LSTM network\n",
    "model = Sequential()\n",
    "model.add(LSTM(10, input_shape=(1, look_back)))\n",
    "model.add(Dense(1))\n",
    "model.compile(loss='mean_squared_error', optimizer='adam')\n",
    "model.fit(trainX, trainY, epochs=100, batch_size=1, verbose=2)"
   ],
   "metadata": {
    "collapsed": false,
    "ExecuteTime": {
     "end_time": "2024-01-11T02:19:09.664294900Z",
     "start_time": "2024-01-11T02:18:35.625824600Z"
    }
   },
   "id": "a925f85ebcddfe8a"
  },
  {
   "cell_type": "code",
   "execution_count": 92,
   "outputs": [
    {
     "name": "stdout",
     "output_type": "stream",
     "text": [
      "6/6 [==============================] - 1s 2ms/step\n",
      "3/3 [==============================] - 0s 3ms/step\n",
      "Train Score: 0.64 RMSE\n",
      "Test Score: 0.79 RMSE\n"
     ]
    }
   ],
   "source": [
    "# make predictions\n",
    "trainPredict = model.predict(trainX)\n",
    "testPredict = model.predict(testX)\n",
    "# invert predictions\n",
    "trainPredict = scaler.inverse_transform(trainPredict)\n",
    "trainY = scaler.inverse_transform([trainY])\n",
    "testPredict = scaler.inverse_transform(testPredict)\n",
    "testY = scaler.inverse_transform([testY])\n",
    "# calculate root mean squared error\n",
    "trainScore = np.sqrt(mean_squared_error(trainY[0], trainPredict[:,0]))\n",
    "print('Train Score: %.2f RMSE' % (trainScore))\n",
    "testScore = np.sqrt(mean_squared_error(testY[0], testPredict[:,0]))\n",
    "print('Test Score: %.2f RMSE' % (testScore))"
   ],
   "metadata": {
    "collapsed": false,
    "ExecuteTime": {
     "end_time": "2024-01-11T02:19:13.166296500Z",
     "start_time": "2024-01-11T02:19:12.188296400Z"
    }
   },
   "id": "c81e83353ec0bd2f"
  },
  {
   "cell_type": "code",
   "execution_count": 93,
   "outputs": [
    {
     "data": {
      "text/plain": "<Figure size 640x480 with 1 Axes>",
      "image/png": "[encoded data removed]"
     },
     "metadata": {},
     "output_type": "display_data"
    }
   ],
   "source": [
    "# previsões de train de mudança para plot\n",
    "trainPredictPlot = np.empty_like(dataset)\n",
    "trainPredictPlot[:, :] = np.nan\n",
    "trainPredictPlot[look_back:len(trainPredict)+look_back, :] = trainPredict\n",
    "# previsões de test de mudança para plot\n",
    "testPredictPlot = np.empty_like(dataset)\n",
    "testPredictPlot[:, :] = np.nan\n",
    "testPredictPlot[len(trainPredict)+(look_back*2)+1:len(dataset)-1, :] = testPredict\n",
    "# plot baseline and predictions\n",
    "plt.plot(scaler.inverse_transform(dataset))\n",
    "#plt.plot(trainPredictPlot)\n",
    "plt.plot(testPredictPlot)\n",
    "plt.legend(['Valor da ação','Previsões'], fontsize=10)\n",
    "plt.show()"
   ],
   "metadata": {
    "collapsed": false,
    "ExecuteTime": {
     "end_time": "2024-01-11T02:19:19.826292400Z",
     "start_time": "2024-01-11T02:19:19.637294900Z"
    }
   },
   "id": "4a9f545e2753c072"
  },
  {
   "cell_type": "code",
   "execution_count": 94,
   "outputs": [],
   "source": [
    "arr1 = np.array(scaler.inverse_transform(dataset))\n",
    "arr2 = np.array(testPredictPlot)\n",
    "valid_indices = ~np.isnan(arr2)"
   ],
   "metadata": {
    "collapsed": false,
    "ExecuteTime": {
     "end_time": "2024-01-11T02:19:34.805328600Z",
     "start_time": "2024-01-11T02:19:34.788327800Z"
    }
   },
   "id": "c74ac426610ac762"
  },
  {
   "cell_type": "code",
   "execution_count": 95,
   "outputs": [
    {
     "name": "stdout",
     "output_type": "stream",
     "text": [
      "\n",
      "Performance no Conjunto de Teste:\n",
      "Mean Squared Error (MSE): 0.616512906466052\n",
      "Median Absolute Deviation (MAD): 0.5085601806640625\n",
      "Mean Absolute Error (MAE): 0.6002914905548109\n",
      "R-squared (R²): 0.9329023616942055\n"
     ]
    }
   ],
   "source": [
    "from functions.validation import performance_evaluation\n",
    "test_performance = performance_evaluation(arr1[valid_indices], arr2[valid_indices])\n",
    "\n",
    "print(\"\\nPerformance no Conjunto de Teste:\")\n",
    "for metric, value in test_performance.items():\n",
    "    print(f'{metric}: {value}')"
   ],
   "metadata": {
    "collapsed": false,
    "ExecuteTime": {
     "end_time": "2024-01-11T02:19:36.052328500Z",
     "start_time": "2024-01-11T02:19:36.024327300Z"
    }
   },
   "id": "6de8c07c6f63d7f4"
  },
  {
   "cell_type": "code",
   "execution_count": 84,
   "outputs": [
    {
     "data": {
      "text/plain": "[<matplotlib.lines.Line2D at 0x250437cd310>]"
     },
     "execution_count": 84,
     "metadata": {},
     "output_type": "execute_result"
    },
    {
     "data": {
      "text/plain": "<Figure size 640x480 with 1 Axes>",
      "image/png": "[encoded data removed]"
     },
     "metadata": {},
     "output_type": "display_data"
    }
   ],
   "source": [
    "plt.plot(testPredictPlot)"
   ],
   "metadata": {
    "collapsed": false,
    "ExecuteTime": {
     "end_time": "2024-01-11T02:16:47.712328900Z",
     "start_time": "2024-01-11T02:16:47.492331800Z"
    }
   },
   "id": "255b269901cb9742"
  },
  {
   "cell_type": "code",
   "execution_count": null,
   "outputs": [],
   "source": [],
   "metadata": {
    "collapsed": false
   },
   "id": "a8522a8304ab545b"
  }
 ],
 "metadata": {
  "kernelspec": {
   "display_name": "Python 3",
   "language": "python",
   "name": "python3"
  },
  "language_info": {
   "codemirror_mode": {
    "name": "ipython",
    "version": 2
   },
   "file_extension": ".py",
   "mimetype": "text/x-python",
   "name": "python",
   "nbconvert_exporter": "python",
   "pygments_lexer": "ipython2",
   "version": "2.7.6"
  }
 },
 "nbformat": 4,
 "nbformat_minor": 5
}
