{
 "cells": [
  {
   "cell_type": "markdown",
   "metadata": {},
   "source": [
    "# Projeto para o TCC\n",
    "\n",
    "### Objetivo: Fazer predição de valores com diferentes metodos e depois fazer uma analise de dados dos resultados"
   ]
  },
  {
   "cell_type": "code",
   "execution_count": 5,
   "metadata": {},
   "outputs": [
    {
     "name": "stdout",
     "output_type": "stream",
     "text": [
      "Collecting yfinance\n",
      "  Downloading yfinance-0.2.28-py2.py3-none-any.whl (65 kB)\n",
      "     ---------------------------------------- 65.3/65.3 kB 3.7 MB/s eta 0:00:00\n",
      "Collecting lxml>=4.9.1\n",
      "  Downloading lxml-4.9.3-cp310-cp310-win_amd64.whl (3.8 MB)\n",
      "     ---------------------------------------- 3.8/3.8 MB 6.7 MB/s eta 0:00:00\n",
      "Collecting appdirs>=1.4.4\n",
      "  Downloading appdirs-1.4.4-py2.py3-none-any.whl (9.6 kB)\n",
      "Collecting requests>=2.31\n",
      "  Downloading requests-2.31.0-py3-none-any.whl (62 kB)\n",
      "     ---------------------------------------- 62.6/62.6 kB 3.5 MB/s eta 0:00:00\n",
      "Collecting frozendict>=2.3.4\n",
      "  Downloading frozendict-2.3.8-cp310-cp310-win_amd64.whl (35 kB)\n",
      "Collecting pandas>=1.3.0\n",
      "  Downloading pandas-2.1.0-cp310-cp310-win_amd64.whl (11.1 MB)\n",
      "     ---------------------------------------- 11.1/11.1 MB 4.8 MB/s eta 0:00:00\n",
      "Collecting beautifulsoup4>=4.11.1\n",
      "  Downloading beautifulsoup4-4.12.2-py3-none-any.whl (142 kB)\n",
      "     -------------------------------------- 143.0/143.0 kB 8.3 MB/s eta 0:00:00\n",
      "Collecting html5lib>=1.1\n",
      "  Using cached html5lib-1.1-py2.py3-none-any.whl (112 kB)\n",
      "Collecting numpy>=1.16.5\n",
      "  Downloading numpy-1.25.2-cp310-cp310-win_amd64.whl (15.6 MB)\n",
      "     ---------------------------------------- 15.6/15.6 MB 6.1 MB/s eta 0:00:00\n",
      "Collecting pytz>=2022.5\n",
      "  Downloading pytz-2023.3.post1-py2.py3-none-any.whl (502 kB)\n",
      "     -------------------------------------- 502.5/502.5 kB 6.3 MB/s eta 0:00:00\n",
      "Collecting multitasking>=0.0.7\n",
      "  Using cached multitasking-0.0.11-py3-none-any.whl (8.5 kB)\n",
      "Collecting soupsieve>1.2\n",
      "  Downloading soupsieve-2.5-py3-none-any.whl (36 kB)\n",
      "Collecting webencodings\n",
      "  Downloading webencodings-0.5.1-py2.py3-none-any.whl (11 kB)\n",
      "Requirement already satisfied: six>=1.9 in c:\\users\\chico\\appdata\\roaming\\python\\python310\\site-packages (from html5lib>=1.1->yfinance) (1.16.0)\n",
      "Collecting tzdata>=2022.1\n",
      "  Downloading tzdata-2023.3-py2.py3-none-any.whl (341 kB)\n",
      "     -------------------------------------- 341.8/341.8 kB 7.1 MB/s eta 0:00:00\n",
      "Requirement already satisfied: python-dateutil>=2.8.2 in c:\\users\\chico\\appdata\\roaming\\python\\python310\\site-packages (from pandas>=1.3.0->yfinance) (2.8.2)\n",
      "Collecting certifi>=2017.4.17\n",
      "  Downloading certifi-2023.7.22-py3-none-any.whl (158 kB)\n",
      "     -------------------------------------- 158.3/158.3 kB 9.9 MB/s eta 0:00:00\n",
      "Collecting urllib3<3,>=1.21.1\n",
      "  Downloading urllib3-2.0.4-py3-none-any.whl (123 kB)\n",
      "     -------------------------------------- 123.9/123.9 kB 7.6 MB/s eta 0:00:00\n",
      "Collecting charset-normalizer<4,>=2\n",
      "  Downloading charset_normalizer-3.2.0-cp310-cp310-win_amd64.whl (96 kB)\n",
      "     ---------------------------------------- 96.9/96.9 kB ? eta 0:00:00\n",
      "Collecting idna<4,>=2.5\n",
      "  Downloading idna-3.4-py3-none-any.whl (61 kB)\n",
      "     ---------------------------------------- 61.5/61.5 kB 3.4 MB/s eta 0:00:00\n",
      "Installing collected packages: webencodings, pytz, multitasking, appdirs, urllib3, tzdata, soupsieve, numpy, lxml, idna, html5lib, frozendict, charset-normalizer, certifi, requests, pandas, beautifulsoup4, yfinance\n",
      "Successfully installed appdirs-1.4.4 beautifulsoup4-4.12.2 certifi-2023.7.22 charset-normalizer-3.2.0 frozendict-2.3.8 html5lib-1.1 idna-3.4 lxml-4.9.3 multitasking-0.0.11 numpy-1.25.2 pandas-2.1.0 pytz-2023.3.post1 requests-2.31.0 soupsieve-2.5 tzdata-2023.3 urllib3-2.0.4 webencodings-0.5.1 yfinance-0.2.28\n",
      "Note: you may need to restart the kernel to use updated packages.\n"
     ]
    },
    {
     "name": "stderr",
     "output_type": "stream",
     "text": [
      "\n",
      "[notice] A new release of pip available: 22.2.1 -> 23.2.1\n",
      "[notice] To update, run: python.exe -m pip install --upgrade pip\n"
     ]
    }
   ],
   "source": [
    "pip install yfinance"
   ]
  },
  {
   "cell_type": "code",
   "execution_count": 1,
   "metadata": {},
   "outputs": [],
   "source": [
    "import yfinance as yf"
   ]
  },
  {
   "cell_type": "code",
   "execution_count": 17,
   "metadata": {},
   "outputs": [],
   "source": [
    "import datetime\n",
    "import pandas as pd\n",
    "from matplotlib import pyplot as plt\n",
    "import numpy as np\n",
    "import seaborn as sns"
   ]
  },
  {
   "cell_type": "code",
   "execution_count": 3,
   "metadata": {},
   "outputs": [
    {
     "name": "stdout",
     "output_type": "stream",
     "text": [
      "[*********************100%***********************]  1 of 1 completed\n",
      "[*********************100%***********************]  1 of 1 completed\n",
      "[*********************100%***********************]  1 of 1 completed\n"
     ]
    },
    {
     "data": {
      "text/html": [
       "<div>\n",
       "<style scoped>\n",
       "    .dataframe tbody tr th:only-of-type {\n",
       "        vertical-align: middle;\n",
       "    }\n",
       "\n",
       "    .dataframe tbody tr th {\n",
       "        vertical-align: top;\n",
       "    }\n",
       "\n",
       "    .dataframe thead th {\n",
       "        text-align: right;\n",
       "    }\n",
       "</style>\n",
       "<table border=\"1\" class=\"dataframe\">\n",
       "  <thead>\n",
       "    <tr style=\"text-align: right;\">\n",
       "      <th></th>\n",
       "      <th>Open</th>\n",
       "      <th>High</th>\n",
       "      <th>Low</th>\n",
       "      <th>Close</th>\n",
       "      <th>Adj Close</th>\n",
       "      <th>Volume</th>\n",
       "    </tr>\n",
       "    <tr>\n",
       "      <th>Date</th>\n",
       "      <th></th>\n",
       "      <th></th>\n",
       "      <th></th>\n",
       "      <th></th>\n",
       "      <th></th>\n",
       "      <th></th>\n",
       "    </tr>\n",
       "  </thead>\n",
       "  <tbody>\n",
       "    <tr>\n",
       "      <th>2022-11-08</th>\n",
       "      <td>37.779999</td>\n",
       "      <td>38.299999</td>\n",
       "      <td>37.320000</td>\n",
       "      <td>38.070000</td>\n",
       "      <td>34.895782</td>\n",
       "      <td>14742300</td>\n",
       "    </tr>\n",
       "    <tr>\n",
       "      <th>2022-11-09</th>\n",
       "      <td>37.639999</td>\n",
       "      <td>38.560001</td>\n",
       "      <td>36.919998</td>\n",
       "      <td>37.060001</td>\n",
       "      <td>33.969994</td>\n",
       "      <td>18987500</td>\n",
       "    </tr>\n",
       "    <tr>\n",
       "      <th>2022-11-10</th>\n",
       "      <td>37.000000</td>\n",
       "      <td>37.680000</td>\n",
       "      <td>35.669998</td>\n",
       "      <td>36.330002</td>\n",
       "      <td>33.300865</td>\n",
       "      <td>64558100</td>\n",
       "    </tr>\n",
       "    <tr>\n",
       "      <th>2022-11-11</th>\n",
       "      <td>36.310001</td>\n",
       "      <td>36.650002</td>\n",
       "      <td>35.360001</td>\n",
       "      <td>35.520000</td>\n",
       "      <td>32.558399</td>\n",
       "      <td>54156800</td>\n",
       "    </tr>\n",
       "    <tr>\n",
       "      <th>2022-11-14</th>\n",
       "      <td>36.000000</td>\n",
       "      <td>36.799999</td>\n",
       "      <td>35.650002</td>\n",
       "      <td>36.400002</td>\n",
       "      <td>33.365021</td>\n",
       "      <td>23033900</td>\n",
       "    </tr>\n",
       "    <tr>\n",
       "      <th>...</th>\n",
       "      <td>...</td>\n",
       "      <td>...</td>\n",
       "      <td>...</td>\n",
       "      <td>...</td>\n",
       "      <td>...</td>\n",
       "      <td>...</td>\n",
       "    </tr>\n",
       "    <tr>\n",
       "      <th>2023-10-31</th>\n",
       "      <td>48.480000</td>\n",
       "      <td>48.849998</td>\n",
       "      <td>47.779999</td>\n",
       "      <td>48.349998</td>\n",
       "      <td>48.349998</td>\n",
       "      <td>7043700</td>\n",
       "    </tr>\n",
       "    <tr>\n",
       "      <th>2023-11-01</th>\n",
       "      <td>48.360001</td>\n",
       "      <td>48.740002</td>\n",
       "      <td>48.080002</td>\n",
       "      <td>48.400002</td>\n",
       "      <td>48.400002</td>\n",
       "      <td>10905000</td>\n",
       "    </tr>\n",
       "    <tr>\n",
       "      <th>2023-11-03</th>\n",
       "      <td>48.950001</td>\n",
       "      <td>50.459999</td>\n",
       "      <td>48.849998</td>\n",
       "      <td>50.099998</td>\n",
       "      <td>50.099998</td>\n",
       "      <td>12382700</td>\n",
       "    </tr>\n",
       "    <tr>\n",
       "      <th>2023-11-06</th>\n",
       "      <td>50.290001</td>\n",
       "      <td>50.650002</td>\n",
       "      <td>50.000000</td>\n",
       "      <td>50.450001</td>\n",
       "      <td>50.450001</td>\n",
       "      <td>6108400</td>\n",
       "    </tr>\n",
       "    <tr>\n",
       "      <th>2023-11-07</th>\n",
       "      <td>0.000000</td>\n",
       "      <td>0.000000</td>\n",
       "      <td>0.000000</td>\n",
       "      <td>51.020000</td>\n",
       "      <td>51.020000</td>\n",
       "      <td>0</td>\n",
       "    </tr>\n",
       "  </tbody>\n",
       "</table>\n",
       "<p>250 rows × 6 columns</p>\n",
       "</div>"
      ],
      "text/plain": [
       "                 Open       High        Low      Close  Adj Close    Volume\n",
       "Date                                                                       \n",
       "2022-11-08  37.779999  38.299999  37.320000  38.070000  34.895782  14742300\n",
       "2022-11-09  37.639999  38.560001  36.919998  37.060001  33.969994  18987500\n",
       "2022-11-10  37.000000  37.680000  35.669998  36.330002  33.300865  64558100\n",
       "2022-11-11  36.310001  36.650002  35.360001  35.520000  32.558399  54156800\n",
       "2022-11-14  36.000000  36.799999  35.650002  36.400002  33.365021  23033900\n",
       "...               ...        ...        ...        ...        ...       ...\n",
       "2023-10-31  48.480000  48.849998  47.779999  48.349998  48.349998   7043700\n",
       "2023-11-01  48.360001  48.740002  48.080002  48.400002  48.400002  10905000\n",
       "2023-11-03  48.950001  50.459999  48.849998  50.099998  50.099998  12382700\n",
       "2023-11-06  50.290001  50.650002  50.000000  50.450001  50.450001   6108400\n",
       "2023-11-07   0.000000   0.000000   0.000000  51.020000  51.020000         0\n",
       "\n",
       "[250 rows x 6 columns]"
      ]
     },
     "metadata": {},
     "output_type": "display_data"
    }
   ],
   "source": [
    "#codigos_de_negociacao = [\"BBAS3.SA\", \"PETR4.SA\", \"VALE3.SA\"]\n",
    "\n",
    "hoje = datetime.datetime.now()\n",
    "um_ano_atras = hoje - datetime.timedelta(days = 365)\n",
    "\n",
    "dados_bbas3 = yf.download(\"BBAS3.SA\", um_ano_atras, hoje)\n",
    "dados_petr4 = yf.download(\"PETR4.SA\", um_ano_atras, hoje)\n",
    "dados_vale3 = yf.download(\"VALE3.SA\", um_ano_atras, hoje)\n",
    "\n",
    "\n",
    "display(dados_bbas3)"
   ]
  },
  {
   "cell_type": "code",
   "execution_count": 7,
   "metadata": {},
   "outputs": [],
   "source": [
    "df_bbas3 = dados_bbas3\n",
    "df_petr4 = dados_petr4\n",
    "df_vsle3 = dados_vale3\n",
    "\n",
    "df_bbas3['Adj Close_next_day'] = dados_bbas3['Adj Close'].shift(-1)\n",
    "df_petr4['Adj Close_next_day'] = dados_petr4['Adj Close'].shift(-1)\n",
    "df_vsle3['Adj Close_next_day'] = dados_vale3['Adj Close'].shift(-1)"
   ]
  },
  {
   "cell_type": "code",
   "execution_count": 12,
   "metadata": {},
   "outputs": [],
   "source": [
    "df_bbas3 = df_bbas3.drop(df_bbas3.index[-1])"
   ]
  },
  {
   "cell_type": "code",
   "execution_count": 13,
   "metadata": {},
   "outputs": [],
   "source": [
    "from sklearn.model_selection import train_test_split\n",
    "from sklearn.linear_model import LinearRegression"
   ]
  },
  {
   "cell_type": "code",
   "execution_count": 14,
   "metadata": {},
   "outputs": [],
   "source": [
    "X = df_bbas3.iloc[:, 1:-1] # Todas as colunas, exceto a última e a priemira\n",
    "y = df_bbas3.iloc[:, -1] # Última coluna\n",
    "\n",
    "X_train, X_test, y_train, y_test = train_test_split(X, y, test_size=0.7, random_state=42)"
   ]
  },
  {
   "cell_type": "code",
   "execution_count": 15,
   "metadata": {},
   "outputs": [
    {
     "data": {
      "text/plain": [
       "LinearRegression()"
      ]
     },
     "execution_count": 15,
     "metadata": {},
     "output_type": "execute_result"
    }
   ],
   "source": [
    "regression_model = LinearRegression()\n",
    "regression_model.fit(X_train, y_train)"
   ]
  },
  {
   "cell_type": "code",
   "execution_count": 16,
   "metadata": {},
   "outputs": [],
   "source": [
    "y_pred = regression_model.predict(X_test)"
   ]
  },
  {
   "cell_type": "code",
   "execution_count": 21,
   "metadata": {},
   "outputs": [],
   "source": [
    "# importando as funções de avaliação\n",
    "from sklearn.metrics import mean_squared_error\n",
    "from sklearn.model_selection import cross_val_score\n",
    "from sklearn.metrics import r2_score"
   ]
  },
  {
   "cell_type": "code",
   "execution_count": 22,
   "metadata": {},
   "outputs": [
    {
     "name": "stdout",
     "output_type": "stream",
     "text": [
      "Modelo Linear Regression\n",
      "\n",
      "RMSE: 0.7039433980627148\n",
      "R²: 0.9878025920841974\n"
     ]
    }
   ],
   "source": [
    "mse = mean_squared_error(y_test, y_pred)\n",
    "rmse = np.sqrt(mse)\n",
    "r2 = r2_score(y_test, y_pred)\n",
    "\n",
    "# exibindo os resultados\n",
    "print('Modelo Linear Regression\\n')\n",
    "print(\"RMSE:\", rmse)\n",
    "print(\"R²:\", r2)"
   ]
  },
  {
   "cell_type": "code",
   "execution_count": 23,
   "metadata": {},
   "outputs": [
    {
     "data": {
      "image/png": "[encoded data removed]",
      "text/plain": [
       "<Figure size 640x480 with 1 Axes>"
      ]
     },
     "metadata": {},
     "output_type": "display_data"
    }
   ],
   "source": [
    "plt.scatter(y_test, y_pred)\n",
    "plt.xlabel(\"Adj Close Verdadeiro\")\n",
    "plt.ylabel(\"Adj Close Previsto\")\n",
    "plt.title(\"Comparação entre Adj Close Verdadeiros e Previstos\")\n",
    "plt.show()"
   ]
  },
  {
   "cell_type": "code",
   "execution_count": 24,
   "metadata": {},
   "outputs": [],
   "source": [
    "from sklearn.tree import DecisionTreeRegressor"
   ]
  },
  {
   "cell_type": "code",
   "execution_count": 25,
   "metadata": {},
   "outputs": [
    {
     "data": {
      "text/plain": [
       "DecisionTreeRegressor()"
      ]
     },
     "execution_count": 25,
     "metadata": {},
     "output_type": "execute_result"
    }
   ],
   "source": [
    "model_2 = DecisionTreeRegressor()\n",
    "model_2.fit(X_train, y_train)"
   ]
  },
  {
   "cell_type": "code",
   "execution_count": 26,
   "metadata": {},
   "outputs": [],
   "source": [
    "# avaliar o desempenho de acurácia usando o cross-validation\n",
    "cv_2 = cross_val_score(estimator=model_2, X=X_train, y=y_train, cv=10)\n",
    "\n",
    "# calcular o desempenho usando a métrica r2\n",
    "y_pred_train_2 = model_2.predict(X_train)\n",
    "r2_train_2 = r2_score(y_train, y_pred_train_2)\n",
    "\n",
    "y_pred_test_2 = model_2.predict(X_test)\n",
    "r2_test_2 = r2_score(y_test, y_pred_test_2)\n",
    "\n",
    "# calcular o desepenho usando RMSE\n",
    "rmse_2 = (np.sqrt(mean_squared_error(y_test, y_pred_test_2)))"
   ]
  },
  {
   "cell_type": "code",
   "execution_count": 27,
   "metadata": {},
   "outputs": [
    {
     "name": "stdout",
     "output_type": "stream",
     "text": [
      "Modelo DecisionTreeRegression\n",
      "\n",
      "CV:  0.9644717188883225\n",
      "R2 train: 1.0\n",
      "R2 test: 0.9763560666354939\n",
      "RMSE: 0.9800851965688925\n"
     ]
    }
   ],
   "source": [
    "# exibindo os resultados\n",
    "print('Modelo DecisionTreeRegression\\n')\n",
    "print('CV: ', cv_2.mean())\n",
    "print('R2 train:', r2_train_2)\n",
    "print('R2 test:', r2_test_2)\n",
    "print('RMSE:', rmse_2)"
   ]
  }
 ],
 "metadata": {
  "kernelspec": {
   "display_name": "Python 3",
   "language": "python",
   "name": "python3"
  },
  "language_info": {
   "codemirror_mode": {
    "name": "ipython",
    "version": 3
   },
   "file_extension": ".py",
   "mimetype": "text/x-python",
   "name": "python",
   "nbconvert_exporter": "python",
   "pygments_lexer": "ipython3",
   "version": "3.9.13"
  },
  "orig_nbformat": 4
 },
 "nbformat": 4,
 "nbformat_minor": 2
}
